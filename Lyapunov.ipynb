{
 "cells": [
  {
   "cell_type": "code",
   "execution_count": 2,
   "metadata": {},
   "outputs": [
    {
     "data": {
      "text/plain": [
       "[0.09901313648089884,\n",
       " 31.810062345338384,\n",
       " -4.853826798775816,\n",
       " -5.517984098329752]"
      ]
     },
     "execution_count": 2,
     "metadata": {},
     "output_type": "execute_result"
    }
   ],
   "source": [
    "#codigo utilizado para obtener los coeficientes de Lyapunov. Elaborado por Gustavo Ardila y Cristian Tibambre\n",
    "import numpy as np\n",
    "from scipy.integrate import solve_ivp\n",
    "\n",
    "#ODE sistema de ecuaciones \n",
    "def func(t, v, k, r, b):\n",
    "    x, y, z, w = v #define todas las variables\n",
    "    return [ -k * (np.sin(y) - np.sin(w))*np.cos(y) - r*b*np.sin(y), x/(b),  k * (np.sin(y) - np.sin(w))*np.cos(y) - r*b*np.sin(w), z/b ]\n",
    "def JM(v, sigma, r, b): #define la matriz jacobiana\n",
    "    x, y, z, w = [k for k in v]\n",
    "    return np.array([[0, -k*((np.cos(y)**2-(np.sin(y))**2) + np.sin(w)*np.sin(y) - r*b*np.cos(y)), 0, k*np.cos(w)*np.cos(y)], [1/b, 0, 0, 0], [0, k*np.cos(y)*np.cos(w), 0, -k*(np.sin(y)*np.sin(w) + ((np.cos(w))**2-(np.sin(w))**2))-r*b*np.cos(w)], [-b, 0, 0, 1]])\n",
    "#parametros iniciales\n",
    "k = 0.5 #constante del resorte\n",
    "r = 5 #masas \n",
    "b = 1 #longitud\n",
    "U = np.eye(4) #unidades de la funcion nueva\n",
    "v0 = np.ones(4) #condiciones iniciales.\n",
    "lyap = [] #array vacio para guardar exponentes\n",
    "\n",
    "\n",
    "iters=10**3\n",
    "dt=0.1\n",
    "tf=iters * dt\n",
    "#soluciona las ecuaciones diferenciales\n",
    "sol = solve_ivp(func, [0, tf], v0, t_eval=np.linspace(0, tf, iters), args=(k, r, b))\n",
    "v_n = sol.y.T #transpone la solucion\n",
    "\n",
    "#ciclo para iterar desde 0.1 hasta donde se desee \n",
    "for k in range(0, iters):\n",
    "    v0 = v_n[k] #nuevas condiciones iniciales\n",
    "    U_n = np.matmul(np.eye(4) + JM(v0, k, r, b) * dt, U)\n",
    "        #hace uso del metodo Gram-Schmidt Orthogonalisation (GSO)\n",
    "    Q, R = np.linalg.qr(U_n)\n",
    "    lyap.append(np.log(abs(R.diagonal())))\n",
    "    \n",
    "#retorna 4 exponentes de lyapunov\n",
    "[sum([lyap[k][j] for k in range(iters)]) / (dt * iters) for j in range(4)]"
   ]
  },
  {
   "cell_type": "code",
   "execution_count": null,
   "metadata": {},
   "outputs": [],
   "source": []
  }
 ],
 "metadata": {
  "kernelspec": {
   "display_name": "Python 3",
   "language": "python",
   "name": "python3"
  },
  "language_info": {
   "codemirror_mode": {
    "name": "ipython",
    "version": 3
   },
   "file_extension": ".py",
   "mimetype": "text/x-python",
   "name": "python",
   "nbconvert_exporter": "python",
   "pygments_lexer": "ipython3",
   "version": "3.7.6"
  }
 },
 "nbformat": 4,
 "nbformat_minor": 5
}
